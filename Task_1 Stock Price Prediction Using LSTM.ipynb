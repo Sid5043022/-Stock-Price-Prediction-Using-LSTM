{
 "cells": [
  {
   "cell_type": "markdown",
   "metadata": {},
   "source": [
    "# DATA SCIENCE INTERN @BHARAT INTERN"
   ]
  },
  {
   "cell_type": "markdown",
   "metadata": {},
   "source": [
    "### AUTHOR : SIDDHARTH"
   ]
  },
  {
   "cell_type": "markdown",
   "metadata": {},
   "source": [
    "# TASK 1 : STOCK PREDICTION"
   ]
  },
  {
   "cell_type": "markdown",
   "metadata": {},
   "source": [
    "## STEP 1 : IMPORTING LIBRARIES AND DATA TO BE USED"
   ]
  },
  {
   "cell_type": "code",
   "execution_count": 1,
   "metadata": {},
   "outputs": [],
   "source": [
    "import numpy as np\n",
    "import matplotlib.pyplot as plt\n",
    "import pandas as pd"
   ]
  },
  {
   "cell_type": "code",
   "execution_count": 2,
   "metadata": {},
   "outputs": [],
   "source": [
    "url = 'https://raw.githubusercontent.com/mwitiderrick/stockprice/master/NSE-TATAGLOBAL.csv'\n",
    "dataset_train = pd.read_csv(url)\n",
    "training_set = dataset_train.iloc[:, 1:2].values"
   ]
  },
  {
   "cell_type": "markdown",
   "metadata": {},
   "source": [
    "## STEP 2 : GATHERING INSIGHTS"
   ]
  },
  {
   "cell_type": "code",
   "execution_count": 3,
   "metadata": {},
   "outputs": [
    {
     "name": "stdout",
     "output_type": "stream",
     "text": [
      "Shape of data: (2035, 8)\n"
     ]
    }
   ],
   "source": [
    "# shape of data\n",
    "print(\"Shape of data:\",dataset_train.shape)"
   ]
  },
  {
   "cell_type": "code",
   "execution_count": 4,
   "metadata": {},
   "outputs": [
    {
     "data": {
      "text/html": [
       "<div>\n",
       "<style scoped>\n",
       "    .dataframe tbody tr th:only-of-type {\n",
       "        vertical-align: middle;\n",
       "    }\n",
       "\n",
       "    .dataframe tbody tr th {\n",
       "        vertical-align: top;\n",
       "    }\n",
       "\n",
       "    .dataframe thead th {\n",
       "        text-align: right;\n",
       "    }\n",
       "</style>\n",
       "<table border=\"1\" class=\"dataframe\">\n",
       "  <thead>\n",
       "    <tr style=\"text-align: right;\">\n",
       "      <th></th>\n",
       "      <th>Open</th>\n",
       "      <th>High</th>\n",
       "      <th>Low</th>\n",
       "      <th>Last</th>\n",
       "      <th>Close</th>\n",
       "      <th>Total Trade Quantity</th>\n",
       "      <th>Turnover (Lacs)</th>\n",
       "    </tr>\n",
       "  </thead>\n",
       "  <tbody>\n",
       "    <tr>\n",
       "      <th>count</th>\n",
       "      <td>2035.000000</td>\n",
       "      <td>2035.000000</td>\n",
       "      <td>2035.000000</td>\n",
       "      <td>2035.000000</td>\n",
       "      <td>2035.00000</td>\n",
       "      <td>2.035000e+03</td>\n",
       "      <td>2035.000000</td>\n",
       "    </tr>\n",
       "    <tr>\n",
       "      <th>mean</th>\n",
       "      <td>149.713735</td>\n",
       "      <td>151.992826</td>\n",
       "      <td>147.293931</td>\n",
       "      <td>149.474251</td>\n",
       "      <td>149.45027</td>\n",
       "      <td>2.335681e+06</td>\n",
       "      <td>3899.980565</td>\n",
       "    </tr>\n",
       "    <tr>\n",
       "      <th>std</th>\n",
       "      <td>48.664509</td>\n",
       "      <td>49.413109</td>\n",
       "      <td>47.931958</td>\n",
       "      <td>48.732570</td>\n",
       "      <td>48.71204</td>\n",
       "      <td>2.091778e+06</td>\n",
       "      <td>4570.767877</td>\n",
       "    </tr>\n",
       "    <tr>\n",
       "      <th>min</th>\n",
       "      <td>81.100000</td>\n",
       "      <td>82.800000</td>\n",
       "      <td>80.000000</td>\n",
       "      <td>81.000000</td>\n",
       "      <td>80.95000</td>\n",
       "      <td>3.961000e+04</td>\n",
       "      <td>37.040000</td>\n",
       "    </tr>\n",
       "    <tr>\n",
       "      <th>25%</th>\n",
       "      <td>120.025000</td>\n",
       "      <td>122.100000</td>\n",
       "      <td>118.300000</td>\n",
       "      <td>120.075000</td>\n",
       "      <td>120.05000</td>\n",
       "      <td>1.146444e+06</td>\n",
       "      <td>1427.460000</td>\n",
       "    </tr>\n",
       "    <tr>\n",
       "      <th>50%</th>\n",
       "      <td>141.500000</td>\n",
       "      <td>143.400000</td>\n",
       "      <td>139.600000</td>\n",
       "      <td>141.100000</td>\n",
       "      <td>141.25000</td>\n",
       "      <td>1.783456e+06</td>\n",
       "      <td>2512.030000</td>\n",
       "    </tr>\n",
       "    <tr>\n",
       "      <th>75%</th>\n",
       "      <td>157.175000</td>\n",
       "      <td>159.400000</td>\n",
       "      <td>155.150000</td>\n",
       "      <td>156.925000</td>\n",
       "      <td>156.90000</td>\n",
       "      <td>2.813594e+06</td>\n",
       "      <td>4539.015000</td>\n",
       "    </tr>\n",
       "    <tr>\n",
       "      <th>max</th>\n",
       "      <td>327.700000</td>\n",
       "      <td>328.750000</td>\n",
       "      <td>321.650000</td>\n",
       "      <td>325.950000</td>\n",
       "      <td>325.75000</td>\n",
       "      <td>2.919102e+07</td>\n",
       "      <td>55755.080000</td>\n",
       "    </tr>\n",
       "  </tbody>\n",
       "</table>\n",
       "</div>"
      ],
      "text/plain": [
       "              Open         High          Low         Last       Close  \\\n",
       "count  2035.000000  2035.000000  2035.000000  2035.000000  2035.00000   \n",
       "mean    149.713735   151.992826   147.293931   149.474251   149.45027   \n",
       "std      48.664509    49.413109    47.931958    48.732570    48.71204   \n",
       "min      81.100000    82.800000    80.000000    81.000000    80.95000   \n",
       "25%     120.025000   122.100000   118.300000   120.075000   120.05000   \n",
       "50%     141.500000   143.400000   139.600000   141.100000   141.25000   \n",
       "75%     157.175000   159.400000   155.150000   156.925000   156.90000   \n",
       "max     327.700000   328.750000   321.650000   325.950000   325.75000   \n",
       "\n",
       "       Total Trade Quantity  Turnover (Lacs)  \n",
       "count          2.035000e+03      2035.000000  \n",
       "mean           2.335681e+06      3899.980565  \n",
       "std            2.091778e+06      4570.767877  \n",
       "min            3.961000e+04        37.040000  \n",
       "25%            1.146444e+06      1427.460000  \n",
       "50%            1.783456e+06      2512.030000  \n",
       "75%            2.813594e+06      4539.015000  \n",
       "max            2.919102e+07     55755.080000  "
      ]
     },
     "execution_count": 4,
     "metadata": {},
     "output_type": "execute_result"
    }
   ],
   "source": [
    "# statistical description of data\n",
    "dataset_train.describe()"
   ]
  },
  {
   "cell_type": "code",
   "execution_count": 5,
   "metadata": {},
   "outputs": [
    {
     "name": "stdout",
     "output_type": "stream",
     "text": [
      "<class 'pandas.core.frame.DataFrame'>\n",
      "RangeIndex: 2035 entries, 0 to 2034\n",
      "Data columns (total 8 columns):\n",
      " #   Column                Non-Null Count  Dtype  \n",
      "---  ------                --------------  -----  \n",
      " 0   Date                  2035 non-null   object \n",
      " 1   Open                  2035 non-null   float64\n",
      " 2   High                  2035 non-null   float64\n",
      " 3   Low                   2035 non-null   float64\n",
      " 4   Last                  2035 non-null   float64\n",
      " 5   Close                 2035 non-null   float64\n",
      " 6   Total Trade Quantity  2035 non-null   int64  \n",
      " 7   Turnover (Lacs)       2035 non-null   float64\n",
      "dtypes: float64(6), int64(1), object(1)\n",
      "memory usage: 127.3+ KB\n"
     ]
    }
   ],
   "source": [
    "# summary of data\n",
    "dataset_train.info()"
   ]
  },
  {
   "cell_type": "code",
   "execution_count": 6,
   "metadata": {},
   "outputs": [
    {
     "data": {
      "text/plain": [
       "Date                    0\n",
       "Open                    0\n",
       "High                    0\n",
       "Low                     0\n",
       "Last                    0\n",
       "Close                   0\n",
       "Total Trade Quantity    0\n",
       "Turnover (Lacs)         0\n",
       "dtype: int64"
      ]
     },
     "execution_count": 6,
     "metadata": {},
     "output_type": "execute_result"
    }
   ],
   "source": [
    "# checking null values\n",
    "dataset_train.isnull().sum()"
   ]
  },
  {
   "cell_type": "markdown",
   "metadata": {},
   "source": [
    "### There are no null values in the dataset"
   ]
  },
  {
   "cell_type": "code",
   "execution_count": 8,
   "metadata": {},
   "outputs": [
    {
     "data": {
      "text/html": [
       "<div>\n",
       "<style scoped>\n",
       "    .dataframe tbody tr th:only-of-type {\n",
       "        vertical-align: middle;\n",
       "    }\n",
       "\n",
       "    .dataframe tbody tr th {\n",
       "        vertical-align: top;\n",
       "    }\n",
       "\n",
       "    .dataframe thead th {\n",
       "        text-align: right;\n",
       "    }\n",
       "</style>\n",
       "<table border=\"1\" class=\"dataframe\">\n",
       "  <thead>\n",
       "    <tr style=\"text-align: right;\">\n",
       "      <th></th>\n",
       "      <th>Date</th>\n",
       "      <th>Open</th>\n",
       "      <th>High</th>\n",
       "      <th>Low</th>\n",
       "      <th>Last</th>\n",
       "      <th>Close</th>\n",
       "      <th>Total Trade Quantity</th>\n",
       "      <th>Turnover (Lacs)</th>\n",
       "    </tr>\n",
       "  </thead>\n",
       "  <tbody>\n",
       "    <tr>\n",
       "      <th>0</th>\n",
       "      <td>2018-09-28</td>\n",
       "      <td>234.05</td>\n",
       "      <td>235.95</td>\n",
       "      <td>230.20</td>\n",
       "      <td>233.50</td>\n",
       "      <td>233.75</td>\n",
       "      <td>3069914</td>\n",
       "      <td>7162.35</td>\n",
       "    </tr>\n",
       "    <tr>\n",
       "      <th>1</th>\n",
       "      <td>2018-09-27</td>\n",
       "      <td>234.55</td>\n",
       "      <td>236.80</td>\n",
       "      <td>231.10</td>\n",
       "      <td>233.80</td>\n",
       "      <td>233.25</td>\n",
       "      <td>5082859</td>\n",
       "      <td>11859.95</td>\n",
       "    </tr>\n",
       "    <tr>\n",
       "      <th>2</th>\n",
       "      <td>2018-09-26</td>\n",
       "      <td>240.00</td>\n",
       "      <td>240.00</td>\n",
       "      <td>232.50</td>\n",
       "      <td>235.00</td>\n",
       "      <td>234.25</td>\n",
       "      <td>2240909</td>\n",
       "      <td>5248.60</td>\n",
       "    </tr>\n",
       "    <tr>\n",
       "      <th>3</th>\n",
       "      <td>2018-09-25</td>\n",
       "      <td>233.30</td>\n",
       "      <td>236.75</td>\n",
       "      <td>232.00</td>\n",
       "      <td>236.25</td>\n",
       "      <td>236.10</td>\n",
       "      <td>2349368</td>\n",
       "      <td>5503.90</td>\n",
       "    </tr>\n",
       "    <tr>\n",
       "      <th>4</th>\n",
       "      <td>2018-09-24</td>\n",
       "      <td>233.55</td>\n",
       "      <td>239.20</td>\n",
       "      <td>230.75</td>\n",
       "      <td>234.00</td>\n",
       "      <td>233.30</td>\n",
       "      <td>3423509</td>\n",
       "      <td>7999.55</td>\n",
       "    </tr>\n",
       "  </tbody>\n",
       "</table>\n",
       "</div>"
      ],
      "text/plain": [
       "         Date    Open    High     Low    Last   Close  Total Trade Quantity  \\\n",
       "0  2018-09-28  234.05  235.95  230.20  233.50  233.75               3069914   \n",
       "1  2018-09-27  234.55  236.80  231.10  233.80  233.25               5082859   \n",
       "2  2018-09-26  240.00  240.00  232.50  235.00  234.25               2240909   \n",
       "3  2018-09-25  233.30  236.75  232.00  236.25  236.10               2349368   \n",
       "4  2018-09-24  233.55  239.20  230.75  234.00  233.30               3423509   \n",
       "\n",
       "   Turnover (Lacs)  \n",
       "0          7162.35  \n",
       "1         11859.95  \n",
       "2          5248.60  \n",
       "3          5503.90  \n",
       "4          7999.55  "
      ]
     },
     "execution_count": 8,
     "metadata": {},
     "output_type": "execute_result"
    }
   ],
   "source": [
    "dataset_train.head()"
   ]
  },
  {
   "cell_type": "markdown",
   "metadata": {},
   "source": [
    "## STEP 3 : DATA PRE-PROCESSING"
   ]
  },
  {
   "cell_type": "code",
   "execution_count": 9,
   "metadata": {},
   "outputs": [],
   "source": [
    "from sklearn.preprocessing import MinMaxScaler\n",
    "sc = MinMaxScaler(feature_range=(0,1))\n",
    "training_set_scaled = sc.fit_transform(training_set)"
   ]
  },
  {
   "cell_type": "code",
   "execution_count": 13,
   "metadata": {},
   "outputs": [],
   "source": [
    "X_train = []\n",
    "y_train = []\n",
    "\n",
    "# Loop through your data to create sequences\n",
    "for i in range(60, 2035):\n",
    "    X_train.append(training_set_scaled[i-60:i, 0])\n",
    "    y_train.append(training_set_scaled[i, 0])\n",
    "\n",
    "# Convert lists to NumPy arrays\n",
    "X_train = np.array(X_train)\n",
    "y_train = np.array(y_train)\n",
    "\n",
    "# Reshape X_train\n",
    "X_train = np.reshape(X_train, (X_train.shape[0], X_train.shape[1], 1))"
   ]
  },
  {
   "cell_type": "markdown",
   "metadata": {},
   "source": [
    "## STEP 4 :  CREATING LSTM MODEL"
   ]
  },
  {
   "cell_type": "code",
   "execution_count": 14,
   "metadata": {},
   "outputs": [],
   "source": [
    "from keras.models import Sequential\n",
    "from keras.layers import LSTM\n",
    "from keras.layers import Dropout\n",
    "from keras.layers import Dense"
   ]
  },
  {
   "cell_type": "code",
   "execution_count": 15,
   "metadata": {
    "scrolled": true
   },
   "outputs": [
    {
     "name": "stdout",
     "output_type": "stream",
     "text": [
      "Epoch 1/100\n",
      "62/62 [==============================] - 12s 76ms/step - loss: 0.0100\n",
      "Epoch 2/100\n",
      "62/62 [==============================] - 4s 69ms/step - loss: 0.0034\n",
      "Epoch 3/100\n",
      "62/62 [==============================] - 4s 69ms/step - loss: 0.0032\n",
      "Epoch 4/100\n",
      "62/62 [==============================] - 4s 71ms/step - loss: 0.0027\n",
      "Epoch 5/100\n",
      "62/62 [==============================] - 5s 75ms/step - loss: 0.0025\n",
      "Epoch 6/100\n",
      "62/62 [==============================] - 4s 72ms/step - loss: 0.0022\n",
      "Epoch 7/100\n",
      "62/62 [==============================] - 4s 71ms/step - loss: 0.0023\n",
      "Epoch 8/100\n",
      "62/62 [==============================] - 4s 69ms/step - loss: 0.0020\n",
      "Epoch 9/100\n",
      "62/62 [==============================] - 4s 70ms/step - loss: 0.0021\n",
      "Epoch 10/100\n",
      "62/62 [==============================] - 4s 69ms/step - loss: 0.0019\n",
      "Epoch 11/100\n",
      "62/62 [==============================] - 4s 69ms/step - loss: 0.0017\n",
      "Epoch 12/100\n",
      "62/62 [==============================] - 4s 69ms/step - loss: 0.0016\n",
      "Epoch 13/100\n",
      "62/62 [==============================] - 4s 70ms/step - loss: 0.0016\n",
      "Epoch 14/100\n",
      "62/62 [==============================] - 4s 69ms/step - loss: 0.0018\n",
      "Epoch 15/100\n",
      "62/62 [==============================] - 4s 69ms/step - loss: 0.0015\n",
      "Epoch 16/100\n",
      "62/62 [==============================] - 4s 70ms/step - loss: 0.0016\n",
      "Epoch 17/100\n",
      "62/62 [==============================] - 4s 69ms/step - loss: 0.0014\n",
      "Epoch 18/100\n",
      "62/62 [==============================] - 4s 69ms/step - loss: 0.0014\n",
      "Epoch 19/100\n",
      "62/62 [==============================] - 4s 72ms/step - loss: 0.0014\n",
      "Epoch 20/100\n",
      "62/62 [==============================] - 4s 72ms/step - loss: 0.0013\n",
      "Epoch 21/100\n",
      "62/62 [==============================] - 5s 73ms/step - loss: 0.0013\n",
      "Epoch 22/100\n",
      "62/62 [==============================] - 4s 70ms/step - loss: 0.0015\n",
      "Epoch 23/100\n",
      "62/62 [==============================] - 4s 70ms/step - loss: 0.0013\n",
      "Epoch 24/100\n",
      "62/62 [==============================] - 4s 70ms/step - loss: 0.0013\n",
      "Epoch 25/100\n",
      "62/62 [==============================] - 4s 70ms/step - loss: 0.0010\n",
      "Epoch 26/100\n",
      "62/62 [==============================] - 4s 71ms/step - loss: 0.0012\n",
      "Epoch 27/100\n",
      "62/62 [==============================] - 5s 75ms/step - loss: 0.0011\n",
      "Epoch 28/100\n",
      "62/62 [==============================] - 5s 79ms/step - loss: 0.0011\n",
      "Epoch 29/100\n",
      "62/62 [==============================] - 5s 80ms/step - loss: 0.0013\n",
      "Epoch 30/100\n",
      "62/62 [==============================] - 5s 83ms/step - loss: 0.0012\n",
      "Epoch 31/100\n",
      "62/62 [==============================] - 5s 76ms/step - loss: 0.0011\n",
      "Epoch 32/100\n",
      "62/62 [==============================] - 4s 70ms/step - loss: 0.0011\n",
      "Epoch 33/100\n",
      "62/62 [==============================] - 4s 70ms/step - loss: 0.0011\n",
      "Epoch 34/100\n",
      "62/62 [==============================] - 4s 70ms/step - loss: 0.0011\n",
      "Epoch 35/100\n",
      "62/62 [==============================] - 4s 71ms/step - loss: 0.0011\n",
      "Epoch 36/100\n",
      "62/62 [==============================] - 5s 75ms/step - loss: 9.7285e-04\n",
      "Epoch 37/100\n",
      "62/62 [==============================] - 4s 70ms/step - loss: 9.5278e-04\n",
      "Epoch 38/100\n",
      "62/62 [==============================] - 4s 71ms/step - loss: 9.3449e-04\n",
      "Epoch 39/100\n",
      "62/62 [==============================] - 4s 70ms/step - loss: 0.0010\n",
      "Epoch 40/100\n",
      "62/62 [==============================] - 5s 73ms/step - loss: 9.8685e-04\n",
      "Epoch 41/100\n",
      "62/62 [==============================] - 4s 72ms/step - loss: 9.3070e-04\n",
      "Epoch 42/100\n",
      "62/62 [==============================] - 4s 71ms/step - loss: 8.7454e-04\n",
      "Epoch 43/100\n",
      "62/62 [==============================] - 4s 71ms/step - loss: 8.7783e-04\n",
      "Epoch 44/100\n",
      "62/62 [==============================] - 4s 69ms/step - loss: 8.9646e-04\n",
      "Epoch 45/100\n",
      "62/62 [==============================] - 4s 71ms/step - loss: 8.4784e-04\n",
      "Epoch 46/100\n",
      "62/62 [==============================] - 4s 70ms/step - loss: 9.6894e-04\n",
      "Epoch 47/100\n",
      "62/62 [==============================] - 5s 75ms/step - loss: 7.5693e-04\n",
      "Epoch 48/100\n",
      "62/62 [==============================] - 4s 72ms/step - loss: 8.3971e-04\n",
      "Epoch 49/100\n",
      "62/62 [==============================] - 4s 72ms/step - loss: 0.0010\n",
      "Epoch 50/100\n",
      "62/62 [==============================] - 5s 74ms/step - loss: 7.7627e-04\n",
      "Epoch 51/100\n",
      "62/62 [==============================] - 4s 70ms/step - loss: 8.8828e-04\n",
      "Epoch 52/100\n",
      "62/62 [==============================] - 4s 71ms/step - loss: 7.8621e-04\n",
      "Epoch 53/100\n",
      "62/62 [==============================] - 4s 71ms/step - loss: 7.5760e-04\n",
      "Epoch 54/100\n",
      "62/62 [==============================] - 4s 71ms/step - loss: 9.8949e-04\n",
      "Epoch 55/100\n",
      "62/62 [==============================] - 4s 71ms/step - loss: 7.7365e-04\n",
      "Epoch 56/100\n",
      "62/62 [==============================] - 4s 71ms/step - loss: 7.4525e-04\n",
      "Epoch 57/100\n",
      "62/62 [==============================] - 5s 73ms/step - loss: 7.4154e-04\n",
      "Epoch 58/100\n",
      "62/62 [==============================] - 4s 70ms/step - loss: 8.1860e-04\n",
      "Epoch 59/100\n",
      "62/62 [==============================] - 4s 70ms/step - loss: 7.7363e-04\n",
      "Epoch 60/100\n",
      "62/62 [==============================] - 4s 70ms/step - loss: 8.4698e-04\n",
      "Epoch 61/100\n",
      "62/62 [==============================] - 4s 70ms/step - loss: 7.0761e-04\n",
      "Epoch 62/100\n",
      "62/62 [==============================] - 4s 69ms/step - loss: 6.7000e-04\n",
      "Epoch 63/100\n",
      "62/62 [==============================] - 5s 75ms/step - loss: 8.1416e-04\n",
      "Epoch 64/100\n",
      "62/62 [==============================] - 4s 70ms/step - loss: 8.7994e-04\n",
      "Epoch 65/100\n",
      "62/62 [==============================] - 4s 70ms/step - loss: 7.1882e-04\n",
      "Epoch 66/100\n",
      "62/62 [==============================] - 4s 70ms/step - loss: 6.6547e-04\n",
      "Epoch 67/100\n",
      "62/62 [==============================] - 4s 72ms/step - loss: 7.1310e-04\n",
      "Epoch 68/100\n",
      "62/62 [==============================] - 5s 76ms/step - loss: 7.7686e-04\n",
      "Epoch 69/100\n",
      "62/62 [==============================] - 5s 74ms/step - loss: 6.1653e-04\n",
      "Epoch 70/100\n",
      "62/62 [==============================] - 5s 73ms/step - loss: 8.1415e-04\n",
      "Epoch 71/100\n",
      "62/62 [==============================] - 5s 75ms/step - loss: 7.1999e-04\n",
      "Epoch 72/100\n",
      "62/62 [==============================] - 4s 71ms/step - loss: 8.1046e-04\n",
      "Epoch 73/100\n",
      "62/62 [==============================] - 5s 75ms/step - loss: 7.0620e-04\n",
      "Epoch 74/100\n",
      "62/62 [==============================] - 4s 72ms/step - loss: 7.2875e-04\n",
      "Epoch 75/100\n",
      "62/62 [==============================] - 4s 72ms/step - loss: 7.4798e-04\n",
      "Epoch 76/100\n",
      "62/62 [==============================] - 4s 71ms/step - loss: 6.5410e-04\n",
      "Epoch 77/100\n",
      "62/62 [==============================] - 5s 73ms/step - loss: 5.8469e-04\n",
      "Epoch 78/100\n",
      "62/62 [==============================] - 4s 72ms/step - loss: 6.5461e-04\n",
      "Epoch 79/100\n",
      "62/62 [==============================] - 5s 75ms/step - loss: 5.9321e-04\n",
      "Epoch 80/100\n",
      "62/62 [==============================] - 4s 72ms/step - loss: 7.0478e-04\n",
      "Epoch 81/100\n",
      "62/62 [==============================] - 4s 72ms/step - loss: 6.0549e-04\n",
      "Epoch 82/100\n",
      "62/62 [==============================] - 4s 71ms/step - loss: 6.0577e-04\n",
      "Epoch 83/100\n",
      "62/62 [==============================] - 4s 72ms/step - loss: 6.3183e-04\n",
      "Epoch 84/100\n",
      "62/62 [==============================] - 4s 72ms/step - loss: 5.9057e-04\n",
      "Epoch 85/100\n",
      "62/62 [==============================] - 4s 72ms/step - loss: 8.1385e-04\n",
      "Epoch 86/100\n",
      "62/62 [==============================] - 4s 72ms/step - loss: 6.2862e-04\n",
      "Epoch 87/100\n",
      "62/62 [==============================] - 5s 73ms/step - loss: 6.9038e-04\n",
      "Epoch 88/100\n",
      "62/62 [==============================] - 5s 73ms/step - loss: 5.8832e-04\n",
      "Epoch 89/100\n",
      "62/62 [==============================] - 5s 76ms/step - loss: 6.5911e-04\n",
      "Epoch 90/100\n",
      "62/62 [==============================] - 5s 74ms/step - loss: 6.6909e-04\n",
      "Epoch 91/100\n",
      "62/62 [==============================] - 5s 75ms/step - loss: 7.5542e-04\n",
      "Epoch 92/100\n",
      "62/62 [==============================] - 5s 77ms/step - loss: 5.8058e-04\n",
      "Epoch 93/100\n",
      "62/62 [==============================] - 5s 78ms/step - loss: 6.2800e-04\n",
      "Epoch 94/100\n",
      "62/62 [==============================] - 5s 75ms/step - loss: 5.8832e-04\n",
      "Epoch 95/100\n",
      "62/62 [==============================] - 5s 73ms/step - loss: 7.8506e-04\n",
      "Epoch 96/100\n",
      "62/62 [==============================] - 5s 74ms/step - loss: 5.8268e-04\n",
      "Epoch 97/100\n",
      "62/62 [==============================] - 5s 74ms/step - loss: 5.6647e-04\n",
      "Epoch 98/100\n"
     ]
    },
    {
     "name": "stdout",
     "output_type": "stream",
     "text": [
      "62/62 [==============================] - 5s 73ms/step - loss: 6.2147e-04\n",
      "Epoch 99/100\n",
      "62/62 [==============================] - 4s 72ms/step - loss: 6.0889e-04\n",
      "Epoch 100/100\n",
      "62/62 [==============================] - 5s 73ms/step - loss: 5.9294e-04\n"
     ]
    },
    {
     "data": {
      "text/plain": [
       "<keras.callbacks.History at 0x29930dbf6a0>"
      ]
     },
     "execution_count": 15,
     "metadata": {},
     "output_type": "execute_result"
    }
   ],
   "source": [
    "model = Sequential()\n",
    "model.add(LSTM(units=50,return_sequences=True,input_shape=(X_train.shape[1], 1)))\n",
    "model.add(Dropout(0.2))\n",
    "model.add(LSTM(units=50,return_sequences=True))\n",
    "model.add(Dropout(0.2))\n",
    "model.add(LSTM(units=50,return_sequences=True))\n",
    "model.add(Dropout(0.2))\n",
    "model.add(LSTM(units=50))\n",
    "model.add(Dropout(0.2))\n",
    "model.add(Dense(units=1))\n",
    "model.compile(optimizer='adam',loss='mean_squared_error')\n",
    "model.fit(X_train,y_train,epochs=100,batch_size=32)"
   ]
  },
  {
   "cell_type": "code",
   "execution_count": 16,
   "metadata": {},
   "outputs": [],
   "source": [
    "url = 'https://raw.githubusercontent.com/mwitiderrick/stockprice/master/tatatest.csv'\n",
    "dataset_test = pd.read_csv(url)\n",
    "real_stock_price = dataset_test.iloc[:, 1:2].values"
   ]
  },
  {
   "cell_type": "code",
   "execution_count": 18,
   "metadata": {},
   "outputs": [
    {
     "name": "stdout",
     "output_type": "stream",
     "text": [
      "1/1 [==============================] - 1s 1s/step\n"
     ]
    }
   ],
   "source": [
    "dataset_total = pd.concat((dataset_train['Open'], dataset_test['Open']), axis=0)\n",
    "inputs = dataset_total[len(dataset_total) - len(dataset_test) - 60:].values\n",
    "inputs = inputs.reshape(-1, 1)\n",
    "inputs = sc.transform(inputs)\n",
    "\n",
    "X_test = []\n",
    "for i in range(60, 76):\n",
    "    X_test.append(inputs[i-60:i, 0])\n",
    "\n",
    "X_test = np.array(X_test)\n",
    "X_test = np.reshape(X_test, (X_test.shape[0], X_test.shape[1], 1))\n",
    "\n",
    "predicted_stock_price = model.predict(X_test)\n",
    "predicted_stock_price = sc.inverse_transform(predicted_stock_price)\n"
   ]
  },
  {
   "cell_type": "markdown",
   "metadata": {},
   "source": [
    "## STEP 5 :  VISUALIZING ACTUAL VS PREDICTED DATA"
   ]
  },
  {
   "cell_type": "code",
   "execution_count": 20,
   "metadata": {},
   "outputs": [
    {
     "data": {
      "image/png": "[encoded data removed]",
      "text/plain": [
       "<Figure size 432x288 with 1 Axes>"
      ]
     },
     "metadata": {
      "needs_background": "light"
     },
     "output_type": "display_data"
    }
   ],
   "source": [
    "plt.plot(real_stock_price, color = 'black', label = 'TATA Stock Price')\n",
    "plt.plot(predicted_stock_price, color = 'green', label = 'Predicted TATA Stock Price')\n",
    "plt.title('TATA Stock Price Prediction')\n",
    "plt.xlabel('Time')\n",
    "plt.ylabel('TATA Stock Price')\n",
    "plt.legend()\n",
    "plt.show()"
   ]
  },
  {
   "cell_type": "markdown",
   "metadata": {},
   "source": [
    "# THANK YOU!"
   ]
  },
  {
   "cell_type": "code",
   "execution_count": null,
   "metadata": {},
   "outputs": [],
   "source": []
  }
 ],
 "metadata": {
  "kernelspec": {
   "display_name": "Python 3",
   "language": "python",
   "name": "python3"
  },
  "language_info": {
   "codemirror_mode": {
    "name": "ipython",
    "version": 3
   },
   "file_extension": ".py",
   "mimetype": "text/x-python",
   "name": "python",
   "nbconvert_exporter": "python",
   "pygments_lexer": "ipython3",
   "version": "3.8.5"
  }
 },
 "nbformat": 4,
 "nbformat_minor": 5
}
